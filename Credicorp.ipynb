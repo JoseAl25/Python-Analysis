{
 "metadata": {
  "language_info": {
   "codemirror_mode": {
    "name": "ipython",
    "version": 3
   },
   "file_extension": ".py",
   "mimetype": "text/x-python",
   "name": "python",
   "nbconvert_exporter": "python",
   "pygments_lexer": "ipython3",
   "version": "3.8.5"
  },
  "orig_nbformat": 2,
  "kernelspec": {
   "name": "python385jvsc74a57bd04505adaa3eb92bdea5153fedc8c189cf4ab90c01afcc452bc6e46b4834997bb2",
   "display_name": "Python 3.8.5 64-bit ('base': conda)"
  },
  "metadata": {
   "interpreter": {
    "hash": "4505adaa3eb92bdea5153fedc8c189cf4ab90c01afcc452bc6e46b4834997bb2"
   }
  }
 },
 "nbformat": 4,
 "nbformat_minor": 2,
 "cells": [
  {
   "cell_type": "code",
   "execution_count": 21,
   "metadata": {},
   "outputs": [
    {
     "output_type": "stream",
     "name": "stdout",
     "text": [
      "['4.14%', '4.08%', '4.32%', '4.39%', '4.18%', '4.29%', '4.34%', '4.29%', '4.12%', '4.09%', '3.99%', '4.42%', '4.90%']\n"
     ]
    }
   ],
   "source": [
    "import re\n",
    "hand = open('Deterior.txt')\n",
    "openlist = list()\n",
    "first = dict()\n",
    "\n",
    "for line in hand:\n",
    "    #line = line.rstrip()\n",
    "    line = line.lstrip()\n",
    "    #print(line)\n",
    "    #if not line.startswith('BCP Individual'):\n",
    "    #    continue\n",
    "    #line = line.split()\n",
    "    #print(line)\n",
    "    #rep = re.findall('^BCP Individual ([0-9]+,[0-9]+\\S?)',line)\n",
    "    rep = re.findall('^Indice de cartera deteriorada ([0-9]+.*)',line)\n",
    "    if len(rep) < 1:\n",
    "        continue\n",
    "    #print(rep)\n",
    "    #openlist.append(rep)\n",
    "    for i in rep:\n",
    "    #    print(i)\n",
    "        i = i.split()\n",
    "        #print(i)\n",
    "        i = i[2]\n",
    "        #print(i)\n",
    "        #first[i]= first.get(i,0)+1\n",
    "        openlist.append(i)\n",
    "    #print(first)\n",
    "print(openlist)\n",
    "    #print(sum(openlist))\n",
    "    #rep = rep.split()\n",
    "    #print(rep[0])\n"
   ]
  },
  {
   "cell_type": "code",
   "execution_count": 1,
   "metadata": {},
   "outputs": [
    {
     "output_type": "stream",
     "name": "stdout",
     "text": [
      "['4.14%', '4.08%', '4.32%', '4.39%', '4.18%', '4.29%', '4.34%', '4.29%', '4.12%', '4.09%', '3.99%', '4.42%', '4.90%']\n"
     ]
    }
   ],
   "source": [
    "import re\n",
    "hand = open('Deterior.txt')\n",
    "openlist = list()\n",
    "first = dict()\n",
    "\n",
    "for line in hand:\n",
    "    #line = line.rstrip()\n",
    "    line = line.lstrip()\n",
    "    #print(line)\n",
    "    #if not line.startswith('BCP Individual'):\n",
    "    #    continue\n",
    "    #line = line.split()\n",
    "    #print(line)\n",
    "    #rep = re.findall('^BCP Individual ([0-9]+,[0-9]+\\S?)',line)\n",
    "    rep = re.findall('^Indice de cartera deteriorada ([0-9]+.*)',line)\n",
    "    if len(rep) < 1:\n",
    "        continue\n",
    "    #print(rep)\n",
    "    #openlist.append(rep)\n",
    "    for i in rep:\n",
    "    #    print(i)\n",
    "        i = i.split()\n",
    "        #print(i)\n",
    "        i = i[2]\n",
    "        #print(i)\n",
    "        #first[i]= first.get(i,0)+1\n",
    "        openlist.append(i)\n",
    "    #print(first)\n",
    "print(openlist)\n",
    "    #print(sum(openlist))\n",
    "    #rep = rep.split()\n",
    "    #print(rep[0])\n"
   ]
  },
  {
   "cell_type": "code",
   "execution_count": 27,
   "metadata": {},
   "outputs": [
    {
     "output_type": "stream",
     "name": "stdout",
     "text": [
      "['59-2017']\n['123 -2017']\n"
     ]
    },
    {
     "output_type": "execute_result",
     "data": {
      "text/plain": [
       "[]"
      ]
     },
     "metadata": {},
     "execution_count": 27
    }
   ],
   "source": [
    "import re\n",
    "from unicodedata import normalize\n",
    "hand = open('Informe N° 59.txt')\n",
    "openlist=list()\n",
    "\n",
    "#hand = re.sub(\n",
    "#       r\"([^n\\u0300-\\u036f]|n(?!\\u0303(?![\\u0300-\\u036f])))[\\u0300-\\u036f]+\", r\"\\1\", \n",
    "#        normalize( \"NFD\", hand), 0, re.I\n",
    "#    )\n",
    "\n",
    "# -> NFC\n",
    "#hand = normalize( 'NFC', hand)\n",
    "\n",
    "for i in hand:\n",
    "    for line in hand:\n",
    "        line = line.lstrip()\n",
    "        rep = re.findall('^INFORME N ([0-9]+.*)-D',line)\n",
    "        if len(rep) < 1:\n",
    "            continue\n",
    "\n",
    "        print(rep)\n",
    "        #openlist.append(rep)\n",
    "        #rep.strip()\n",
    "        #print(rep)\n",
    "#openlist\n",
    "   # print(openlist.strip())\n",
    " #   #print(rep)\n",
    "    #openlist.append(rep)\n",
    "  #  for i in rep:\n",
    "    #    print(i)\n",
    "  #      i = i.split()\n",
    "        #print(i)\n",
    "  #      i = i[2]\n",
    "        #print(i)\n",
    "        #first[i]= first.get(i,0)+1\n",
    "  #      openlist.append(i)\n",
    "    #print(first)\n",
    "#print(openlist)\n",
    "\n",
    "\n",
    "    \n",
    "    \n",
    "\n"
   ]
  },
  {
   "cell_type": "code",
   "execution_count": 33,
   "metadata": {},
   "outputs": [],
   "source": [
    "import re\n",
    "from unicodedata import normalize\n",
    "hand = open('Informe N° 59.txt')\n",
    "openlist=list()\n",
    "\n",
    "#hand = re.sub(\n",
    "#       r\"([^n\\u0300-\\u036f]|n(?!\\u0303(?![\\u0300-\\u036f])))[\\u0300-\\u036f]+\", r\"\\1\", \n",
    "#        normalize( \"NFD\", hand), 0, re.I\n",
    "#    )\n",
    "\n",
    "# -> NFC\n",
    "#hand = normalize( 'NFC', hand)\n",
    "\n",
    "for i in hand:\n",
    "    for line in hand:\n",
    "        line = line.lstrip()\n",
    "        rep = re.findall('^FECHA   (\\s+[0-9]+.*)\\s+',line)\n",
    "        if len(rep) < 1:\n",
    "            continue\n",
    "\n",
    "        print(rep)\n",
    "        #openlist.append(rep)\n",
    "        #rep.strip()\n",
    "        #print(rep)\n",
    "#openlist\n",
    "   # print(openlist.strip())\n",
    " #   #print(rep)\n",
    "    #openlist.append(rep)\n",
    "  #  for i in rep:\n",
    "    #    print(i)\n",
    "  #      i = i.split()\n",
    "        #print(i)\n",
    "  #      i = i[2]\n",
    "        #print(i)\n",
    "        #first[i]= first.get(i,0)+1\n",
    "  #      openlist.append(i)\n",
    "    #print(first)\n",
    "#print(openlist)\n"
   ]
  },
  {
   "cell_type": "code",
   "execution_count": null,
   "metadata": {},
   "outputs": [],
   "source": []
  }
 ]
}